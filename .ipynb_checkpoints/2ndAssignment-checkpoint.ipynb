{
 "cells": [
  {
   "cell_type": "markdown",
   "id": "9aea4116-fe78-4c1d-ae6d-f171fadde0b7",
   "metadata": {},
   "source": [
    "1. Write a program that swaps the values of two variables."
   ]
  },
  {
   "cell_type": "code",
   "execution_count": 1,
   "id": "8cae13c2-0c73-4d4f-badf-be09bd364f6f",
   "metadata": {},
   "outputs": [
    {
     "name": "stdout",
     "output_type": "stream",
     "text": [
      "3 2\n"
     ]
    }
   ],
   "source": [
    "def swapi(a,b):\n",
    "    c=a\n",
    "    a=b\n",
    "    b=c\n",
    "    return a,b\n",
    "a=2\n",
    "b=3\n",
    "a,b=swapi(a,b)\n",
    "print(a,b)"
   ]
  },
  {
   "cell_type": "markdown",
   "id": "4ff51d52-6fb9-4f46-b01e-aa716fb64e93",
   "metadata": {},
   "source": [
    "2. Write a program that calculates the area of a rectangle given its length and width."
   ]
  },
  {
   "cell_type": "code",
   "execution_count": 2,
   "id": "68b868d3-6315-43ea-96a7-ac967699d07d",
   "metadata": {},
   "outputs": [
    {
     "name": "stdin",
     "output_type": "stream",
     "text": [
      "Enter the length of rectangle:  10\n",
      "Enter the width of rectangle:  5\n"
     ]
    },
    {
     "name": "stdout",
     "output_type": "stream",
     "text": [
      "The area of rectangle is:  50\n"
     ]
    }
   ],
   "source": [
    "a=int(input(\"Enter the length of rectangle: \"))\n",
    "b=int(input(\"Enter the width of rectangle: \"))\n",
    "print(\"The area of rectangle is: \",a*b)"
   ]
  },
  {
   "cell_type": "markdown",
   "id": "4a1bca06-3f48-449b-8dbd-e5cca3044c9e",
   "metadata": {},
   "source": [
    "3. Write a program that converts temperature from Fahrenheit to Celsius."
   ]
  },
  {
   "cell_type": "code",
   "execution_count": 3,
   "id": "1eb04bae-9a61-4b2e-8b35-2eff8f2c613c",
   "metadata": {},
   "outputs": [
    {
     "name": "stdin",
     "output_type": "stream",
     "text": [
      "Enter the Fahrenheit value:  105\n"
     ]
    },
    {
     "name": "stdout",
     "output_type": "stream",
     "text": [
      "Celsius value is: 40.56 C\n"
     ]
    }
   ],
   "source": [
    "a=float(input(\"Enter the Fahrenheit value: \"))\n",
    "b=round(((a-32)*5)/9,2)\n",
    "print(\"Celsius value is: {} C\".format(b))"
   ]
  },
  {
   "cell_type": "markdown",
   "id": "890adbab-6a99-4117-b6ba-fdd680a33ddd",
   "metadata": {},
   "source": [
    "4. Write a program that calculates the volume of a sphere given its radius."
   ]
  },
  {
   "cell_type": "code",
   "execution_count": 4,
   "id": "e209d891-3f19-4fe6-9274-acaedbad8dfa",
   "metadata": {},
   "outputs": [
    {
     "name": "stdin",
     "output_type": "stream",
     "text": [
      "Enter the radius of sphere:  3\n"
     ]
    },
    {
     "name": "stdout",
     "output_type": "stream",
     "text": [
      "Volume of sphere is:  113.1\n"
     ]
    }
   ],
   "source": [
    "r=float(input(\"Enter the radius of sphere: \"))\n",
    "v=round(4/3*3.14159*r**3,2) #we could also use pow(r,3)\n",
    "print(\"Volume of sphere is: \",v)"
   ]
  },
  {
   "cell_type": "markdown",
   "id": "59adebf3-c844-431b-8657-1d0a3df0b64e",
   "metadata": {},
   "source": [
    "5. Write a program that finds the average of three numbers."
   ]
  },
  {
   "cell_type": "code",
   "execution_count": 5,
   "id": "75e1418c-2143-48f0-90b1-da209a389279",
   "metadata": {},
   "outputs": [
    {
     "name": "stdout",
     "output_type": "stream",
     "text": [
      "Average of three number is:  5.0\n"
     ]
    }
   ],
   "source": [
    "a=3\n",
    "b=5\n",
    "c=7\n",
    "print(\"Average of three number is: \",(a+b+c)/3)"
   ]
  },
  {
   "cell_type": "markdown",
   "id": "b3a2e28d-8064-493e-b36a-700d9f784ba1",
   "metadata": {},
   "source": [
    "6. Write a program that determines if a number is even or odd."
   ]
  },
  {
   "cell_type": "code",
   "execution_count": 6,
   "id": "95b865f1-49fd-49b2-a5a7-554f2a033071",
   "metadata": {},
   "outputs": [
    {
     "name": "stdin",
     "output_type": "stream",
     "text": [
      " 15\n"
     ]
    },
    {
     "name": "stdout",
     "output_type": "stream",
     "text": [
      "15 is an odd number.\n"
     ]
    }
   ],
   "source": [
    "a=int(input())\n",
    "if a%2==0:\n",
    "    print(\"{} is an even number.\".format(a))\n",
    "else:\n",
    "    print(\"{} is an odd number.\".format(a))"
   ]
  },
  {
   "cell_type": "markdown",
   "id": "eef772e0-e9ec-4dd9-9961-c845062b772e",
   "metadata": {},
   "source": [
    "7. Write a program that finds the maximum of three numbers."
   ]
  },
  {
   "cell_type": "code",
   "execution_count": 7,
   "id": "55e67b89-6ac8-4b34-94f2-862b66f47155",
   "metadata": {},
   "outputs": [
    {
     "name": "stdin",
     "output_type": "stream",
     "text": [
      " 2\n",
      " 10\n",
      " 3\n"
     ]
    },
    {
     "name": "stdout",
     "output_type": "stream",
     "text": [
      "10 is the maximum number.\n"
     ]
    }
   ],
   "source": [
    "a=int(input())\n",
    "b=int(input())\n",
    "c=int(input())\n",
    "if a>b and a>c:\n",
    "    print(\"{} is the maximum number.\".format(a))\n",
    "elif b>a and b>c:\n",
    "    print(\"{} is the maximum number.\".format(b))\n",
    "else: \n",
    "    print(\"{} is the maximum number.\".format(c))"
   ]
  },
  {
   "cell_type": "markdown",
   "id": "8271bb8e-70f5-445f-a61b-fe5be6242c53",
   "metadata": {},
   "source": [
    "8. Write a program that determines if a year is a leap year or not."
   ]
  },
  {
   "cell_type": "code",
   "execution_count": 8,
   "id": "9d9b54b8-0b71-4ad4-bcaf-94d1f6ab4773",
   "metadata": {},
   "outputs": [
    {
     "name": "stdin",
     "output_type": "stream",
     "text": [
      "Enter the year:  2001\n"
     ]
    },
    {
     "name": "stdout",
     "output_type": "stream",
     "text": [
      "This is not a leap year\n"
     ]
    }
   ],
   "source": [
    "a=int(input(\"Enter the year: \"))\n",
    "if a%400==0:\n",
    "    print(\"This is a leap year.\")\n",
    "elif a%4==0 and a%100!=0 :\n",
    "    print(\"This is a leap year\")\n",
    "else:\n",
    "    print(\"This is not a leap year\")"
   ]
  },
  {
   "cell_type": "markdown",
   "id": "9ac7a85f-befa-427f-a91e-47a7c00ba6d6",
   "metadata": {},
   "source": [
    "9. Write a program that determines if a number is positive, negative, or zero."
   ]
  },
  {
   "cell_type": "code",
   "execution_count": 9,
   "id": "4ddcf270-8b9d-41bd-bf01-0605f0de1baf",
   "metadata": {},
   "outputs": [
    {
     "name": "stdin",
     "output_type": "stream",
     "text": [
      " -103\n"
     ]
    },
    {
     "name": "stdout",
     "output_type": "stream",
     "text": [
      "The number is Negative.\n"
     ]
    }
   ],
   "source": [
    "a=int(input())\n",
    "if a==0:\n",
    "    print(\"The number is Zero.\")\n",
    "elif a>0:\n",
    "    print(\"The number is Positive.\")\n",
    "else: \n",
    "    print(\"The number is Negative.\")"
   ]
  },
  {
   "cell_type": "markdown",
   "id": "873d3c36-faee-4ed1-82e5-3becf358c4bd",
   "metadata": {},
   "source": [
    "10. Write a program that calculates the grade based on a given percentage."
   ]
  },
  {
   "cell_type": "code",
   "execution_count": 10,
   "id": "cdfa64ea-fc4a-4474-8df6-027dda63d0d8",
   "metadata": {},
   "outputs": [
    {
     "name": "stdin",
     "output_type": "stream",
     "text": [
      " 82\n"
     ]
    },
    {
     "name": "stdout",
     "output_type": "stream",
     "text": [
      "A+\n"
     ]
    }
   ],
   "source": [
    "n=int(input())\n",
    "if n>=80:\n",
    "    print(\"A+\")\n",
    "elif n>=70:\n",
    "    print(\"A\")\n",
    "elif n>=60:\n",
    "    print(\"A-\")\n",
    "elif n>=50:\n",
    "    print(\"B\")\n",
    "elif n>=40:\n",
    "    print(\"C\")\n",
    "else:\n",
    "    print(\"F\")"
   ]
  },
  {
   "cell_type": "markdown",
   "id": "883decd2-4f7b-461e-9461-34fc70f2a2d4",
   "metadata": {},
   "source": [
    "11. Write a program that prints the first `n` natural numbers."
   ]
  },
  {
   "cell_type": "code",
   "execution_count": 11,
   "id": "a1fb257d-78e9-4211-93bf-a8e6f13bb093",
   "metadata": {},
   "outputs": [
    {
     "name": "stdin",
     "output_type": "stream",
     "text": [
      " 5\n"
     ]
    },
    {
     "name": "stdout",
     "output_type": "stream",
     "text": [
      "1\n",
      "2\n",
      "3\n",
      "4\n",
      "5\n"
     ]
    }
   ],
   "source": [
    "n=int(input())\n",
    "for i in range(1,n+1):\n",
    "    print(i)"
   ]
  },
  {
   "cell_type": "markdown",
   "id": "9c06dd76-d085-4ce4-93c4-a34b767806a0",
   "metadata": {},
   "source": [
    "12. Write a program that calculates the factorial of a number."
   ]
  },
  {
   "cell_type": "code",
   "execution_count": 12,
   "id": "8bbb88b5-23a4-446c-9cab-052beb355d02",
   "metadata": {},
   "outputs": [
    {
     "name": "stdin",
     "output_type": "stream",
     "text": [
      " 5\n"
     ]
    },
    {
     "name": "stdout",
     "output_type": "stream",
     "text": [
      "factorial of 5 is: 120\n"
     ]
    }
   ],
   "source": [
    "n=int(input())\n",
    "fact=1\n",
    "for i in range(2,n+1):\n",
    "    fact*=i\n",
    "print(\"factorial of {1} is: {0}\".format(fact,n))"
   ]
  },
  {
   "cell_type": "markdown",
   "id": "83a6ddaa-9b1f-4201-82e6-37e2df9b9428",
   "metadata": {},
   "source": [
    "13. Write a program that generates a Fibonacci sequence of length `n`."
   ]
  },
  {
   "cell_type": "code",
   "execution_count": 13,
   "id": "a8b7ce72-0267-4692-a4cc-aed846ecac1c",
   "metadata": {},
   "outputs": [
    {
     "name": "stdin",
     "output_type": "stream",
     "text": [
      " 7\n"
     ]
    },
    {
     "name": "stdout",
     "output_type": "stream",
     "text": [
      "0,1,1,2,3,5,8,"
     ]
    }
   ],
   "source": [
    "n=int(input())\n",
    "print(\"0,1\",end=\",\")\n",
    "a=0\n",
    "b=1\n",
    "for i in range(1,n-1):\n",
    "    c=a+b\n",
    "    a=b\n",
    "    b=c\n",
    "    print(c,end=\",\")\n",
    "    "
   ]
  },
  {
   "cell_type": "markdown",
   "id": "7ee88c73-7edd-4449-b6cd-01c37a198267",
   "metadata": {},
   "source": [
    "14. Write a program that checks if a given number is prime or not."
   ]
  },
  {
   "cell_type": "code",
   "execution_count": 14,
   "id": "44233c78-1be1-493c-819b-ab5dea63d3fa",
   "metadata": {},
   "outputs": [
    {
     "name": "stdin",
     "output_type": "stream",
     "text": [
      " 19\n"
     ]
    },
    {
     "name": "stdout",
     "output_type": "stream",
     "text": [
      "This is a prime number.\n"
     ]
    }
   ],
   "source": [
    "n=int(input())\n",
    "token=0\n",
    "con=int(n/2)\n",
    "for i in range(2,con+2):\n",
    "    if n%i==0:\n",
    "        token=1\n",
    "        break\n",
    "if token==0:\n",
    "    print(\"This is a prime number.\")\n",
    "else:\n",
    "    print(\"This is not a prime number.\")"
   ]
  },
  {
   "cell_type": "markdown",
   "id": "021fd202-fe1c-4f0c-a940-31ad38ab6ad0",
   "metadata": {},
   "source": [
    "15. Write a program that prints the multiplication table of a given number."
   ]
  },
  {
   "cell_type": "code",
   "execution_count": 15,
   "id": "c35d4d3f-4497-40bb-9e65-1fee2a6027c3",
   "metadata": {},
   "outputs": [
    {
     "name": "stdin",
     "output_type": "stream",
     "text": [
      " 12\n"
     ]
    },
    {
     "name": "stdout",
     "output_type": "stream",
     "text": [
      "12 x 1 = 12\n",
      "12 x 2 = 24\n",
      "12 x 3 = 36\n",
      "12 x 4 = 48\n",
      "12 x 5 = 60\n",
      "12 x 6 = 72\n",
      "12 x 7 = 84\n",
      "12 x 8 = 96\n",
      "12 x 9 = 108\n",
      "12 x 10 = 120\n"
     ]
    }
   ],
   "source": [
    "n=int(input())\n",
    "for i in range(1,11):\n",
    "    print(\"{} x {} = {}\".format(n,i,n*i))"
   ]
  },
  {
   "cell_type": "markdown",
   "id": "05ca5a4b-048d-4aec-ad7d-dc4b72ae75f4",
   "metadata": {},
   "source": [
    "16. Write a program that finds the sum of all even numbers between 1 and `n`."
   ]
  },
  {
   "cell_type": "code",
   "execution_count": 16,
   "id": "93d3c0d0-44d0-42e0-9169-e592bc191749",
   "metadata": {},
   "outputs": [
    {
     "name": "stdin",
     "output_type": "stream",
     "text": [
      " 10\n"
     ]
    },
    {
     "name": "stdout",
     "output_type": "stream",
     "text": [
      "The sum of all even number between 1 and 10 is: 30\n"
     ]
    }
   ],
   "source": [
    "n=int(input())\n",
    "sum=0\n",
    "for i in range(1,n+1):\n",
    "    if i%2==0:\n",
    "        sum+=i\n",
    "print(\"The sum of all even number between 1 and {} is: {}\".format(n,sum))"
   ]
  },
  {
   "cell_type": "markdown",
   "id": "82c8dcd8-dd2c-4df6-b204-7d54f6fe4ecf",
   "metadata": {},
   "source": [
    "17. Write a program that reverses a given number."
   ]
  },
  {
   "cell_type": "code",
   "execution_count": 17,
   "id": "94dc3389-2c2c-49f1-bc2c-de4d5860473b",
   "metadata": {},
   "outputs": [
    {
     "name": "stdin",
     "output_type": "stream",
     "text": [
      " 12345\n"
     ]
    },
    {
     "name": "stdout",
     "output_type": "stream",
     "text": [
      "Reversed number is :  54321\n"
     ]
    }
   ],
   "source": [
    "n=int(input())\n",
    "reverse = 0\n",
    "\n",
    "while n != 0:\n",
    "    d = n % 10\n",
    "    reverse = reverse * 10 + d\n",
    "    n //= 10\n",
    "\n",
    "print(\"Reversed number is : \",reverse)"
   ]
  },
  {
   "cell_type": "markdown",
   "id": "56f5ea6d-ca36-4bee-89d8-2fd808cd97f9",
   "metadata": {},
   "source": [
    "18. Write a program that checks if a given string, is a palindrome."
   ]
  },
  {
   "cell_type": "code",
   "execution_count": 18,
   "id": "82104164-e02c-4628-8a0b-58050dbd82b8",
   "metadata": {},
   "outputs": [
    {
     "name": "stdout",
     "output_type": "stream",
     "text": [
      "This string is palindrome.\n"
     ]
    }
   ],
   "source": [
    "txt=\"madam\"\n",
    "txt2=txt[::-1]\n",
    "if txt==txt2:\n",
    "    print(\"This string is palindrome.\")\n",
    "else: \n",
    "    print(\"This string is not palindrome.\")"
   ]
  },
  {
   "cell_type": "markdown",
   "id": "7a291f05-6c2c-41ab-8acb-f0af419c5006",
   "metadata": {},
   "source": [
    "19. Write a program that generates a random number and allows the user to guess it."
   ]
  },
  {
   "cell_type": "code",
   "execution_count": 19,
   "id": "5653befe-0b64-4db7-ba68-150f36a40590",
   "metadata": {},
   "outputs": [
    {
     "name": "stdin",
     "output_type": "stream",
     "text": [
      "Guess a number between 1 and 10. 8\n"
     ]
    },
    {
     "name": "stdout",
     "output_type": "stream",
     "text": [
      "Your guess is wrong\n",
      "The generated number is:  1\n"
     ]
    }
   ],
   "source": [
    "import random\n",
    "a=1\n",
    "b=10\n",
    "number=random.randint(a,b)\n",
    "guess=int(input(\"Guess a number between {} and {}.\".format(a,b)))\n",
    "if guess==number:\n",
    "    print(\"Your guess is right\")\n",
    "else:\n",
    "    print(\"Your guess is wrong\")\n",
    "print(\"The generated number is: \",number)"
   ]
  },
  {
   "cell_type": "markdown",
   "id": "398b0927-e1ba-4da8-b774-a43a87d07408",
   "metadata": {},
   "source": [
    "20. Write a program that finds the greatest common divisor (GCD) of two numbers."
   ]
  },
  {
   "cell_type": "code",
   "execution_count": 20,
   "id": "a8c0c649-54e7-42c5-9071-8de105947dcf",
   "metadata": {},
   "outputs": [
    {
     "name": "stdout",
     "output_type": "stream",
     "text": [
      "The GCD of 12 and 6 is: 6\n"
     ]
    }
   ],
   "source": [
    "import math\n",
    "a=12\n",
    "b=6\n",
    "gcd=math.gcd(a,b)\n",
    "print(\"The GCD of {} and {} is: {}\".format(a,b,gcd))"
   ]
  },
  {
   "cell_type": "code",
   "execution_count": 21,
   "id": "3e030a74-b0d5-4694-acbb-35c4b69aed6a",
   "metadata": {},
   "outputs": [
    {
     "name": "stdout",
     "output_type": "stream",
     "text": [
      "I am Angkur\n"
     ]
    }
   ],
   "source": [
    "print(\"I am Angkur\")"
   ]
  },
  {
   "cell_type": "markdown",
   "id": "928ae982-aaaa-460c-aef4-c9f40cb34a6a",
   "metadata": {},
   "source": []
  }
 ],
 "metadata": {
  "kernelspec": {
   "display_name": "Python 3 (ipykernel)",
   "language": "python",
   "name": "python3"
  },
  "language_info": {
   "codemirror_mode": {
    "name": "ipython",
    "version": 3
   },
   "file_extension": ".py",
   "mimetype": "text/x-python",
   "name": "python",
   "nbconvert_exporter": "python",
   "pygments_lexer": "ipython3",
   "version": "3.12.4"
  }
 },
 "nbformat": 4,
 "nbformat_minor": 5
}
