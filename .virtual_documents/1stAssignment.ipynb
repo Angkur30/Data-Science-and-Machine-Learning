


def swapi(a,b):
    c=a
    a=b
    b=c
    return a,b
a=2
b=3
a,b=swapi(a,b)
print(a,b)





a=int(input("Enter the length of rectangle: "))
b=int(input("Enter the width of rectangle: "))
print("The area of rectangle is: ",a*b)





a=float(input("Enter the Fahrenheit value: "))
b=round(((a-32)*5)/9,2)
print("Celsius value is: {} C".format(b))





r=float(input("Enter the radius of sphere: "))
v=round(4/3*3.14159*r**3,2) #we could also use pow(r,3)
print("Volume of sphere is: ",v)





a=3
b=5
c=7
print("Average of three number is: ",(a+b+c)/3)





a=int(input())
if a%2==0:
    print("{} is an even number.".format(a))
else:
    print("{} is an odd number.".format(a))





a=int(input())
b=int(input())
c=int(input())
if a>b and a>c:
    print("{} is the maximum number.".format(a))
elif b>a and b>c:
    print("{} is the maximum number.".format(b))
else: 
    print("{} is the maximum number.".format(c))





a=int(input("Enter the year: "))
if a%400==0:
    print("This is a leap year.")
elif a%4==0 and a%100!=0 :
    print("This is a leap year")
else:
    print("This is not a leap year")





a=int(input())
if a==0:
    print("The number is Zero.")
elif a>0:
    print("The number is Positive.")
else: 
    print("The number is Negative.")





n=int(input())
if n>=80:
    print("A+")
elif n>=70:
    print("A")
elif n>=60:
    print("A-")
elif n>=50:
    print("B")
elif n>=40:
    print("C")
else:
    print("F")





n=int(input())
for i in range(1,n+1):
    print(i)





n=int(input())
fact=1
for i in range(2,n+1):
    fact*=i
print("factorial of {1} is: {0}".format(fact,n))





n=int(input())
print("0,1",end=",")
a=0
b=1
for i in range(1,n-1):
    c=a+b
    a=b
    b=c
    print(c,end=",")
    





n=int(input())
token=0
con=int(n/2)
for i in range(2,con+2):
    if n%i==0:
        token=1
        break
if token==0:
    print("This is a prime number.")
else:
    print("This is not a prime number.")





n=int(input())
for i in range(1,11):
    print("{} x {} = {}".format(n,i,n*i))





n=int(input())
sum=0
for i in range(1,n+1):
    if i%2==0:
        sum+=i
print("The sum of all even number between 1 and {} is: {}".format(n,sum))





n=int(input())
reverse = 0

while n != 0:
    d = n % 10
    reverse = reverse * 10 + d
    n //= 10

print("Reversed number is : ",reverse)





txt="madam"
txt2=txt[::-1]
if txt==txt2:
    print("This string is palindrome.")
else: 
    print("This string is not palindrome.")





import random
a=1
b=10
number=random.randint(a,b)
guess=int(input("Guess a number between {} and {}.".format(a,b)))
if guess==number:
    print("Your guess is right")
else:
    print("Your guess is wrong")
print("The generated number is: ",number)





import math
a=12
b=6
gcd=math.gcd(a,b)
print("The GCD of {} and {} is: {}".format(a,b,gcd))



